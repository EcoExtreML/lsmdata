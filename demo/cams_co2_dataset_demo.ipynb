{
 "cells": [
  {
   "cell_type": "markdown",
   "metadata": {},
   "source": [
    "### Handle CAMS EGG4 dataset with Zampy\n",
    "Demo notebook for developers."
   ]
  },
  {
   "cell_type": "code",
   "execution_count": 1,
   "metadata": {},
   "outputs": [
    {
     "name": "stderr",
     "output_type": "stream",
     "text": [
      "/home/yangliu/mambaforge/envs/ecoextreml/lib/python3.10/site-packages/tqdm/auto.py:21: TqdmWarning: IProgress not found. Please update jupyter and ipywidgets. See https://ipywidgets.readthedocs.io/en/stable/user_install.html\n",
      "  from .autonotebook import tqdm as notebook_tqdm\n"
     ]
    }
   ],
   "source": [
    "import numpy as np\n",
    "from zampy.datasets.catalog import CAMS\n",
    "from zampy.datasets.dataset_protocol import TimeBounds, SpatialBounds\n",
    "from pathlib import Path"
   ]
  },
  {
   "cell_type": "code",
   "execution_count": 2,
   "metadata": {},
   "outputs": [],
   "source": [
    "work_dir = Path(\"/home/yangliu/EcoExtreML/temp\")\n",
    "download_dir = work_dir / \"download\"\n",
    "ingest_dir = work_dir / \"ingest\"\n",
    "times = TimeBounds(np.datetime64(\"2003-01-02\"), np.datetime64(\"2004-12-31\"))\n",
    "bbox_demo = SpatialBounds(54, 56, 1, 3)"
   ]
  },
  {
   "cell_type": "markdown",
   "metadata": {},
   "source": [
    "Download dataset."
   ]
  },
  {
   "cell_type": "code",
   "execution_count": 3,
   "metadata": {},
   "outputs": [],
   "source": [
    "cams_dataset = CAMS()\n",
    "cams_dataset.download(\n",
    "    download_dir=download_dir,\n",
    "    time_bounds=times,\n",
    "    spatial_bounds=bbox_demo,\n",
    "    variable_names=[\"co2_concentration\"],\n",
    ")"
   ]
  },
  {
   "cell_type": "markdown",
   "metadata": {},
   "source": [
    "Data ingestion to the unified format in `zampy`."
   ]
  },
  {
   "cell_type": "code",
   "execution_count": null,
   "metadata": {},
   "outputs": [],
   "source": [
    "cams_dataset.ingest(download_dir, ingest_dir)"
   ]
  },
  {
   "cell_type": "code",
   "execution_count": null,
   "metadata": {},
   "outputs": [],
   "source": [
    "ds = cams_dataset.load(\n",
    "    ingest_dir=ingest_dir,\n",
    "    time_bounds=times,\n",
    "    spatial_bounds=bbox_demo,\n",
    "    variable_names=[\"co2_concentration\"],\n",
    "    resolution=1.0,\n",
    "    regrid_method=\"flox\",\n",
    ")"
   ]
  },
  {
   "cell_type": "code",
   "execution_count": null,
   "metadata": {},
   "outputs": [],
   "source": [
    "ds"
   ]
  },
  {
   "cell_type": "code",
   "execution_count": null,
   "metadata": {},
   "outputs": [],
   "source": [
    "from zampy.datasets import converter\n",
    "\n",
    "ds_convert = converter.convert(ds, cams_dataset, \"ALMA\")"
   ]
  },
  {
   "cell_type": "code",
   "execution_count": null,
   "metadata": {},
   "outputs": [],
   "source": [
    "ds_convert"
   ]
  }
 ],
 "metadata": {
  "kernelspec": {
   "display_name": "ecoextreml",
   "language": "python",
   "name": "python3"
  },
  "language_info": {
   "codemirror_mode": {
    "name": "ipython",
    "version": 3
   },
   "file_extension": ".py",
   "mimetype": "text/x-python",
   "name": "python",
   "nbconvert_exporter": "python",
   "pygments_lexer": "ipython3",
   "version": "3.10.0"
  },
  "orig_nbformat": 4
 },
 "nbformat": 4,
 "nbformat_minor": 2
}
