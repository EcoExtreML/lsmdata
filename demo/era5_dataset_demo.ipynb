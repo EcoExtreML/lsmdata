{
 "cells": [
  {
   "cell_type": "markdown",
   "metadata": {},
   "source": [
    "### Handle ERA5 dataset with Zampy\n",
    "Demo notebook for developers."
   ]
  },
  {
   "cell_type": "code",
   "execution_count": 1,
   "metadata": {},
   "outputs": [],
   "source": [
    "import numpy as np\n",
    "from zampy.datasets import ERA5\n",
    "from zampy.datasets.dataset_protocol import TimeBounds, SpatialBounds\n",
    "from pathlib import Path"
   ]
  },
  {
   "cell_type": "code",
   "execution_count": 2,
   "metadata": {},
   "outputs": [],
   "source": [
    "work_dir = Path(\"/home/yangliu/EcoExtreML/temp\")\n",
    "download_dir = work_dir / \"download\"\n",
    "ingest_dir = work_dir / \"ingest\"\n",
    "times = TimeBounds(np.datetime64(\"2010-01-01\"), np.datetime64(\"2010-01-31\"))\n",
    "bbox_demo = SpatialBounds(54, 56, 1, 3)"
   ]
  },
  {
   "cell_type": "code",
   "execution_count": 3,
   "metadata": {},
   "outputs": [
    {
     "name": "stdout",
     "output_type": "stream",
     "text": [
      "File 'era5_10m_v_component_of_wind_2010-1.nc' already exists, skipping...\n",
      "File 'era5_surface_solar_radiation_downwards_2010-1.nc' already exists, skipping...\n"
     ]
    },
    {
     "data": {
      "text/plain": [
       "True"
      ]
     },
     "execution_count": 3,
     "metadata": {},
     "output_type": "execute_result"
    }
   ],
   "source": [
    "era5_dataset = ERA5()\n",
    "era5_dataset.download(\n",
    "    download_dir=download_dir,\n",
    "    time_bounds=times,\n",
    "    spatial_bounds=bbox_demo,\n",
    "    variable_names=[\"10m_v_component_of_wind\",\n",
    "                    \"surface_solar_radiation_downwards\",\n",
    "                    \"mean_total_precipitation_rate\",\n",
    "                    \"surface_pressure\",],\n",
    ")"
   ]
  }
 ],
 "metadata": {
  "kernelspec": {
   "display_name": "ecoextreml",
   "language": "python",
   "name": "python3"
  },
  "language_info": {
   "codemirror_mode": {
    "name": "ipython",
    "version": 3
   },
   "file_extension": ".py",
   "mimetype": "text/x-python",
   "name": "python",
   "nbconvert_exporter": "python",
   "pygments_lexer": "ipython3",
   "version": "3.10.0"
  },
  "orig_nbformat": 4
 },
 "nbformat": 4,
 "nbformat_minor": 2
}
