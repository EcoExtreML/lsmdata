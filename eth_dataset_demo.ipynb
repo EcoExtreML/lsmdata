{
 "cells": [
  {
   "cell_type": "code",
   "execution_count": null,
   "metadata": {},
   "outputs": [],
   "source": [
    "import numpy as np\n",
    "from zampy.datasets import EthCanopyHeight\n",
    "from zampy.datasets.dataset_protocol import TimeBounds, SpatialBounds\n",
    "from pathlib import Path\n",
    "\n",
    "download_dir = Path(\"/home/bart/Zampy/download\")\n",
    "ingest_dir = Path(\"/home/bart/Zampy/ingest\")\n",
    "times = TimeBounds(np.datetime64(\"2020-01-01\"), np.datetime64(\"2020-12-31\"))\n",
    "bbox_demo = SpatialBounds(54, 6, 51, 3)"
   ]
  },
  {
   "cell_type": "code",
   "execution_count": null,
   "metadata": {},
   "outputs": [],
   "source": [
    "canopy_height_dataset = EthCanopyHeight()\n",
    "canopy_height_dataset.download(\n",
    "    download_dir=download_dir,\n",
    "    time_bounds=times,\n",
    "    spatial_bounds=bbox_demo,\n",
    "    variable_names=[\"canopy-height\"],\n",
    ")"
   ]
  },
  {
   "cell_type": "code",
   "execution_count": null,
   "metadata": {},
   "outputs": [],
   "source": [
    "canopy_height_dataset.ingest(download_dir, ingest_dir)"
   ]
  },
  {
   "cell_type": "code",
   "execution_count": null,
   "metadata": {},
   "outputs": [],
   "source": [
    "ds = canopy_height_dataset.load(\n",
    "    ingest_dir=ingest_dir,\n",
    "    time_bounds=times,\n",
    "    spatial_bounds=bbox_demo,\n",
    "    variable_names=[\"canopy-height\"],\n",
    ")"
   ]
  },
  {
   "cell_type": "code",
   "execution_count": null,
   "metadata": {},
   "outputs": [],
   "source": [
    "ds"
   ]
  },
  {
   "cell_type": "code",
   "execution_count": null,
   "metadata": {},
   "outputs": [],
   "source": []
  }
 ],
 "metadata": {
  "kernelspec": {
   "display_name": "zampy",
   "language": "python",
   "name": "python3"
  },
  "language_info": {
   "codemirror_mode": {
    "name": "ipython",
    "version": 3
   },
   "file_extension": ".py",
   "mimetype": "text/x-python",
   "name": "python",
   "nbconvert_exporter": "python",
   "pygments_lexer": "ipython3",
   "version": "3.10.6"
  },
  "orig_nbformat": 4
 },
 "nbformat": 4,
 "nbformat_minor": 2
}
